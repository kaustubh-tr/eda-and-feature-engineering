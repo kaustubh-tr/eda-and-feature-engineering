{
 "cells": [
  {
   "cell_type": "markdown",
   "id": "17a65811",
   "metadata": {},
   "source": [
    "### Installing Libraries"
   ]
  },
  {
   "cell_type": "code",
   "execution_count": 1,
   "id": "4d9495df",
   "metadata": {},
   "outputs": [
    {
     "name": "stdout",
     "output_type": "stream",
     "text": [
      "Note: you may need to restart the kernel to use updated packages.\n",
      "Note: you may need to restart the kernel to use updated packages.\n",
      "Note: you may need to restart the kernel to use updated packages.\n",
      "Note: you may need to restart the kernel to use updated packages.\n"
     ]
    }
   ],
   "source": [
    "%pip install -q geopy==2.4.1\n",
    "%pip install -q geopandas==0.14.3\n",
    "%pip install -q gensim==4.3.0\n",
    "%pip install -q nltk==3.8.1"
   ]
  },
  {
   "cell_type": "markdown",
   "id": "f328d4ee",
   "metadata": {},
   "source": [
    "### Importing Libraries"
   ]
  },
  {
   "cell_type": "code",
   "execution_count": 2,
   "id": "125f1832",
   "metadata": {},
   "outputs": [
    {
     "name": "stderr",
     "output_type": "stream",
     "text": [
      "[nltk_data] Downloading package punkt to /Users/mac/nltk_data...\n",
      "[nltk_data]   Package punkt is already up-to-date!\n"
     ]
    },
    {
     "data": {
      "text/plain": [
       "True"
      ]
     },
     "execution_count": 2,
     "metadata": {},
     "output_type": "execute_result"
    }
   ],
   "source": [
    "import re\n",
    "import pandas as pd\n",
    "import numpy as np\n",
    "import seaborn as sns\n",
    "import matplotlib.pyplot as plt\n",
    "import geopandas as gpd\n",
    "import nltk\n",
    "nltk.download('punkt')"
   ]
  },
  {
   "cell_type": "code",
   "execution_count": 3,
   "id": "9de3637e",
   "metadata": {},
   "outputs": [],
   "source": [
    "from geopy.geocoders import Nominatim\n",
    "from nltk.tokenize import word_tokenize\n",
    "from scipy.spatial.distance import cosine"
   ]
  },
  {
   "cell_type": "markdown",
   "id": "af7ad933",
   "metadata": {},
   "source": [
    "### Loading the dataset"
   ]
  },
  {
   "cell_type": "code",
   "execution_count": 4,
   "id": "937164e7",
   "metadata": {},
   "outputs": [],
   "source": [
    "df = pd.read_csv(\"clearbit_dataset_discovered_companies.csv\", low_memory=False)"
   ]
  },
  {
   "cell_type": "markdown",
   "id": "7ec0669c",
   "metadata": {},
   "source": [
    "### 1. Do basic analysis of the dataset using descriptive stats."
   ]
  },
  {
   "cell_type": "code",
   "execution_count": 5,
   "id": "fb2e1141",
   "metadata": {},
   "outputs": [
    {
     "data": {
      "text/html": [
       "<div>\n",
       "<style scoped>\n",
       "    .dataframe tbody tr th:only-of-type {\n",
       "        vertical-align: middle;\n",
       "    }\n",
       "\n",
       "    .dataframe tbody tr th {\n",
       "        vertical-align: top;\n",
       "    }\n",
       "\n",
       "    .dataframe thead th {\n",
       "        text-align: right;\n",
       "    }\n",
       "</style>\n",
       "<table border=\"1\" class=\"dataframe\">\n",
       "  <thead>\n",
       "    <tr style=\"text-align: right;\">\n",
       "      <th></th>\n",
       "      <th>id</th>\n",
       "      <th>name</th>\n",
       "      <th>legalname</th>\n",
       "      <th>domain</th>\n",
       "      <th>domainaliases</th>\n",
       "      <th>site_phonenumbers</th>\n",
       "      <th>site_emailaddresses</th>\n",
       "      <th>tags</th>\n",
       "      <th>category_sector</th>\n",
       "      <th>category_industrygroup</th>\n",
       "      <th>...</th>\n",
       "      <th>emailprovider</th>\n",
       "      <th>type</th>\n",
       "      <th>ticker</th>\n",
       "      <th>phone</th>\n",
       "      <th>tech</th>\n",
       "      <th>techcategories</th>\n",
       "      <th>parent_domain</th>\n",
       "      <th>ultimateparent_domain</th>\n",
       "      <th>indexedat</th>\n",
       "      <th>created_at</th>\n",
       "    </tr>\n",
       "  </thead>\n",
       "  <tbody>\n",
       "    <tr>\n",
       "      <th>0</th>\n",
       "      <td>ac725f51-30dc-45c5-844f-8317152a393e</td>\n",
       "      <td>V Search</td>\n",
       "      <td>NaN</td>\n",
       "      <td>vsearch.co.in</td>\n",
       "      <td>[]</td>\n",
       "      <td>[]</td>\n",
       "      <td>[]</td>\n",
       "      <td>[Human Resources]</td>\n",
       "      <td>Industrials</td>\n",
       "      <td>Commercial &amp; Professional Services</td>\n",
       "      <td>...</td>\n",
       "      <td>False</td>\n",
       "      <td>private</td>\n",
       "      <td>NaN</td>\n",
       "      <td>NaN</td>\n",
       "      <td>[godaddy_nameserver]</td>\n",
       "      <td>[web_hosting]</td>\n",
       "      <td>NaN</td>\n",
       "      <td>NaN</td>\n",
       "      <td>2021-08-05T11:20:41.603Z</td>\n",
       "      <td>5/7/2021</td>\n",
       "    </tr>\n",
       "    <tr>\n",
       "      <th>1</th>\n",
       "      <td>9428b9d0-4ed0-46b3-b85f-afa3f4f32bd0</td>\n",
       "      <td>NaN</td>\n",
       "      <td>NaN</td>\n",
       "      <td>avsnews.co.in</td>\n",
       "      <td>[]</td>\n",
       "      <td>[]</td>\n",
       "      <td>[]</td>\n",
       "      <td>[]</td>\n",
       "      <td>NaN</td>\n",
       "      <td>NaN</td>\n",
       "      <td>...</td>\n",
       "      <td>False</td>\n",
       "      <td>personal</td>\n",
       "      <td>NaN</td>\n",
       "      <td>NaN</td>\n",
       "      <td>[godaddy_nameserver, google_adsense, wordpress...</td>\n",
       "      <td>[web_hosting, advertising, content_management_...</td>\n",
       "      <td>NaN</td>\n",
       "      <td>NaN</td>\n",
       "      <td>2021-08-05T13:27:37.909Z</td>\n",
       "      <td>5/7/2021</td>\n",
       "    </tr>\n",
       "    <tr>\n",
       "      <th>2</th>\n",
       "      <td>883a4827-80e3-424f-8969-12b94be16b47</td>\n",
       "      <td>Techno5</td>\n",
       "      <td>NaN</td>\n",
       "      <td>techno5.in</td>\n",
       "      <td>[]</td>\n",
       "      <td>[+91 79 0662 8586]</td>\n",
       "      <td>[info@techno5.in]</td>\n",
       "      <td>[]</td>\n",
       "      <td>NaN</td>\n",
       "      <td>NaN</td>\n",
       "      <td>...</td>\n",
       "      <td>False</td>\n",
       "      <td>private</td>\n",
       "      <td>NaN</td>\n",
       "      <td>NaN</td>\n",
       "      <td>[godaddy_nameserver, wordpress, asp_net, googl...</td>\n",
       "      <td>[web_hosting, content_management_system, progr...</td>\n",
       "      <td>NaN</td>\n",
       "      <td>NaN</td>\n",
       "      <td>2021-08-05T14:11:18.273Z</td>\n",
       "      <td>5/7/2021</td>\n",
       "    </tr>\n",
       "    <tr>\n",
       "      <th>3</th>\n",
       "      <td>f4d5636b-1286-4e7d-abe8-70a1729cadfd</td>\n",
       "      <td>Digital Compound</td>\n",
       "      <td>NaN</td>\n",
       "      <td>digitalcompound.in</td>\n",
       "      <td>[]</td>\n",
       "      <td>[+91 79 0748 8830]</td>\n",
       "      <td>[mail@digitalcompound.in]</td>\n",
       "      <td>[]</td>\n",
       "      <td>NaN</td>\n",
       "      <td>NaN</td>\n",
       "      <td>...</td>\n",
       "      <td>False</td>\n",
       "      <td>private</td>\n",
       "      <td>NaN</td>\n",
       "      <td>NaN</td>\n",
       "      <td>[wordpress, nginx, facebook_connect, hubspot, ...</td>\n",
       "      <td>[content_management_system, web_servers, authe...</td>\n",
       "      <td>NaN</td>\n",
       "      <td>NaN</td>\n",
       "      <td>2021-08-05T15:01:21.384Z</td>\n",
       "      <td>5/7/2021</td>\n",
       "    </tr>\n",
       "    <tr>\n",
       "      <th>4</th>\n",
       "      <td>e08dde17-3089-4179-8d58-b7e6245ef5b1</td>\n",
       "      <td>NaN</td>\n",
       "      <td>NaN</td>\n",
       "      <td>meranews24x7.in</td>\n",
       "      <td>[]</td>\n",
       "      <td>[]</td>\n",
       "      <td>[]</td>\n",
       "      <td>[]</td>\n",
       "      <td>NaN</td>\n",
       "      <td>NaN</td>\n",
       "      <td>...</td>\n",
       "      <td>False</td>\n",
       "      <td>personal</td>\n",
       "      <td>NaN</td>\n",
       "      <td>NaN</td>\n",
       "      <td>[namecheap_dns]</td>\n",
       "      <td>[dns]</td>\n",
       "      <td>NaN</td>\n",
       "      <td>NaN</td>\n",
       "      <td>2021-06-21T18:31:27.352Z</td>\n",
       "      <td>5/7/2021</td>\n",
       "    </tr>\n",
       "  </tbody>\n",
       "</table>\n",
       "<p>5 rows × 57 columns</p>\n",
       "</div>"
      ],
      "text/plain": [
       "                                     id              name legalname  \\\n",
       "0  ac725f51-30dc-45c5-844f-8317152a393e          V Search       NaN   \n",
       "1  9428b9d0-4ed0-46b3-b85f-afa3f4f32bd0               NaN       NaN   \n",
       "2  883a4827-80e3-424f-8969-12b94be16b47           Techno5       NaN   \n",
       "3  f4d5636b-1286-4e7d-abe8-70a1729cadfd  Digital Compound       NaN   \n",
       "4  e08dde17-3089-4179-8d58-b7e6245ef5b1               NaN       NaN   \n",
       "\n",
       "               domain domainaliases   site_phonenumbers  \\\n",
       "0       vsearch.co.in            []                  []   \n",
       "1       avsnews.co.in            []                  []   \n",
       "2          techno5.in            []  [+91 79 0662 8586]   \n",
       "3  digitalcompound.in            []  [+91 79 0748 8830]   \n",
       "4     meranews24x7.in            []                  []   \n",
       "\n",
       "         site_emailaddresses               tags category_sector  \\\n",
       "0                         []  [Human Resources]     Industrials   \n",
       "1                         []                 []             NaN   \n",
       "2          [info@techno5.in]                 []             NaN   \n",
       "3  [mail@digitalcompound.in]                 []             NaN   \n",
       "4                         []                 []             NaN   \n",
       "\n",
       "               category_industrygroup  ... emailprovider      type  ticker  \\\n",
       "0  Commercial & Professional Services  ...         False   private     NaN   \n",
       "1                                 NaN  ...         False  personal     NaN   \n",
       "2                                 NaN  ...         False   private     NaN   \n",
       "3                                 NaN  ...         False   private     NaN   \n",
       "4                                 NaN  ...         False  personal     NaN   \n",
       "\n",
       "   phone                                               tech  \\\n",
       "0    NaN                               [godaddy_nameserver]   \n",
       "1    NaN  [godaddy_nameserver, google_adsense, wordpress...   \n",
       "2    NaN  [godaddy_nameserver, wordpress, asp_net, googl...   \n",
       "3    NaN  [wordpress, nginx, facebook_connect, hubspot, ...   \n",
       "4    NaN                                    [namecheap_dns]   \n",
       "\n",
       "                                      techcategories  parent_domain  \\\n",
       "0                                      [web_hosting]            NaN   \n",
       "1  [web_hosting, advertising, content_management_...            NaN   \n",
       "2  [web_hosting, content_management_system, progr...            NaN   \n",
       "3  [content_management_system, web_servers, authe...            NaN   \n",
       "4                                              [dns]            NaN   \n",
       "\n",
       "  ultimateparent_domain                 indexedat created_at  \n",
       "0                   NaN  2021-08-05T11:20:41.603Z   5/7/2021  \n",
       "1                   NaN  2021-08-05T13:27:37.909Z   5/7/2021  \n",
       "2                   NaN  2021-08-05T14:11:18.273Z   5/7/2021  \n",
       "3                   NaN  2021-08-05T15:01:21.384Z   5/7/2021  \n",
       "4                   NaN  2021-06-21T18:31:27.352Z   5/7/2021  \n",
       "\n",
       "[5 rows x 57 columns]"
      ]
     },
     "execution_count": 5,
     "metadata": {},
     "output_type": "execute_result"
    }
   ],
   "source": [
    "df.head()"
   ]
  },
  {
   "cell_type": "markdown",
   "id": "545cb170",
   "metadata": {},
   "source": [
    "#### Drop Non-related columns"
   ]
  },
  {
   "cell_type": "code",
   "execution_count": 6,
   "id": "50ff9951",
   "metadata": {},
   "outputs": [],
   "source": [
    "df = df.drop(['legalname', 'geo_streetnumber', 'geo_streetname', 'geo_subpremise', 'identifiers_usein', 'phone', \n",
    "              'metrics_raised', 'metrics_alexausrank', 'metrics_marketcap', 'annualrevenue', 'fiscalyearend', \n",
    "              'facebook_handle', 'crunchbase_handle', 'ticker', 'parent_domain', 'ultimateparent_domain'], axis=1)\n"
   ]
  },
  {
   "cell_type": "markdown",
   "id": "49229580",
   "metadata": {},
   "source": [
    "#### Replacing `'[]'` with `'NaN'`"
   ]
  },
  {
   "cell_type": "code",
   "execution_count": 7,
   "id": "5d5a6d5a",
   "metadata": {},
   "outputs": [],
   "source": [
    "df.replace('[]', np.NaN, inplace=True)"
   ]
  },
  {
   "cell_type": "code",
   "execution_count": 8,
   "id": "894941fa",
   "metadata": {},
   "outputs": [],
   "source": [
    "df = df.drop(['domainaliases'], axis=1)"
   ]
  },
  {
   "cell_type": "code",
   "execution_count": 9,
   "id": "6ded5ee9",
   "metadata": {},
   "outputs": [
    {
     "name": "stdout",
     "output_type": "stream",
     "text": [
      "<class 'pandas.core.frame.DataFrame'>\n",
      "RangeIndex: 33386 entries, 0 to 33385\n",
      "Data columns (total 40 columns):\n",
      " #   Column                   Non-Null Count  Dtype  \n",
      "---  ------                   --------------  -----  \n",
      " 0   id                       33386 non-null  object \n",
      " 1   name                     22695 non-null  object \n",
      " 2   domain                   33386 non-null  object \n",
      " 3   site_phonenumbers        9829 non-null   object \n",
      " 4   site_emailaddresses      8820 non-null   object \n",
      " 5   tags                     7042 non-null   object \n",
      " 6   category_sector          6927 non-null   object \n",
      " 7   category_industrygroup   6927 non-null   object \n",
      " 8   category_industry        6927 non-null   object \n",
      " 9   category_subindustry     6927 non-null   object \n",
      " 10  category_siccode         5179 non-null   float64\n",
      " 11  category_naicscode       5633 non-null   float64\n",
      " 12  foundedyear              2230 non-null   float64\n",
      " 13  timezone                 33386 non-null  object \n",
      " 14  utcoffset                33386 non-null  int64  \n",
      " 15  geo_city                 5387 non-null   object \n",
      " 16  geo_state                5692 non-null   object \n",
      " 17  geo_statecode            5654 non-null   object \n",
      " 18  geo_postalcode           4524 non-null   float64\n",
      " 19  geo_country              33386 non-null  object \n",
      " 20  geo_countrycode          33386 non-null  object \n",
      " 21  geo_lat                  33386 non-null  float64\n",
      " 22  geo_lng                  33386 non-null  float64\n",
      " 23  metrics_alexaglobalrank  13020 non-null  float64\n",
      " 24  metrics_employees        6609 non-null   float64\n",
      " 25  metrics_employeesrange   6609 non-null   object \n",
      " 26  estimatedannualrevenue   6580 non-null   object \n",
      " 27  linkedin_handle          7658 non-null   object \n",
      " 28  twitter_id               6125 non-null   float64\n",
      " 29  twitter_followers        6125 non-null   float64\n",
      " 30  twitter_following        6125 non-null   float64\n",
      " 31  twitter_site             5574 non-null   object \n",
      " 32  twitter_avatar           6125 non-null   object \n",
      " 33  logo                     15763 non-null  object \n",
      " 34  emailprovider            33386 non-null  bool   \n",
      " 35  type                     33386 non-null  object \n",
      " 36  tech                     26853 non-null  object \n",
      " 37  techcategories           26853 non-null  object \n",
      " 38  indexedat                33386 non-null  object \n",
      " 39  created_at               33386 non-null  object \n",
      "dtypes: bool(1), float64(11), int64(1), object(27)\n",
      "memory usage: 10.0+ MB\n"
     ]
    }
   ],
   "source": [
    "df.info()"
   ]
  },
  {
   "cell_type": "markdown",
   "id": "f218237f",
   "metadata": {},
   "source": [
    "### 2. Which domains are famous among companies (in/com). Also create plot."
   ]
  },
  {
   "cell_type": "code",
   "execution_count": 10,
   "id": "5f473ba0",
   "metadata": {},
   "outputs": [
    {
     "data": {
      "text/plain": [
       "0         in\n",
       "1         in\n",
       "2         in\n",
       "3         in\n",
       "4         in\n",
       "        ... \n",
       "33381    com\n",
       "33382     in\n",
       "33383     in\n",
       "33384    com\n",
       "33385     in\n",
       "Name: domain_extension, Length: 33386, dtype: object"
      ]
     },
     "execution_count": 10,
     "metadata": {},
     "output_type": "execute_result"
    }
   ],
   "source": [
    "df['domain_extension'] = df['domain'].str.split('.').str[-1]\n",
    "df['domain_extension']"
   ]
  },
  {
   "cell_type": "code",
   "execution_count": 11,
   "id": "47427ecd",
   "metadata": {},
   "outputs": [
    {
     "data": {
      "text/plain": [
       "in     27749\n",
       "com     4968\n",
       "org      189\n",
       "net       98\n",
       "co        97\n",
       "Name: domain_extension, dtype: int64"
      ]
     },
     "execution_count": 11,
     "metadata": {},
     "output_type": "execute_result"
    }
   ],
   "source": [
    "df_domain_extension = df[df['domain_extension'].notnull()]\n",
    "extension_counts = df_domain_extension['domain_extension'].value_counts()\n",
    "extension_counts = extension_counts[:5] # Top 5 extensions\n",
    "extension_counts"
   ]
  },
  {
   "cell_type": "code",
   "execution_count": 12,
   "id": "33d35c9a",
   "metadata": {},
   "outputs": [
    {
     "data": {
      "image/png": "[encoded data removed]",
      "text/plain": [
       "<Figure size 1000x600 with 1 Axes>"
      ]
     },
     "metadata": {},
     "output_type": "display_data"
    }
   ],
   "source": [
    "# Plotting\n",
    "plt.figure(figsize=(10, 6))\n",
    "sns.barplot(x=extension_counts.index, y=extension_counts.values, palette='viridis')\n",
    "plt.title('Top 5 Most Common Domain Extensions Among Companies')\n",
    "plt.xlabel('Domain Extension')\n",
    "plt.ylabel('Count')\n",
    "plt.xticks(rotation=45)\n",
    "plt.show()"
   ]
  },
  {
   "cell_type": "markdown",
   "id": "48a51dd2",
   "metadata": {},
   "source": [
    "### 3. Categorise companies based on their names and domain names. Like service based companies, blog, fintech etc."
   ]
  },
  {
   "cell_type": "code",
   "execution_count": 13,
   "id": "d472f418",
   "metadata": {},
   "outputs": [
    {
     "data": {
      "text/html": [
       "<div>\n",
       "<style scoped>\n",
       "    .dataframe tbody tr th:only-of-type {\n",
       "        vertical-align: middle;\n",
       "    }\n",
       "\n",
       "    .dataframe tbody tr th {\n",
       "        vertical-align: top;\n",
       "    }\n",
       "\n",
       "    .dataframe thead th {\n",
       "        text-align: right;\n",
       "    }\n",
       "</style>\n",
       "<table border=\"1\" class=\"dataframe\">\n",
       "  <thead>\n",
       "    <tr style=\"text-align: right;\">\n",
       "      <th></th>\n",
       "      <th>name</th>\n",
       "      <th>domain</th>\n",
       "      <th>category</th>\n",
       "    </tr>\n",
       "  </thead>\n",
       "  <tbody>\n",
       "    <tr>\n",
       "      <th>1</th>\n",
       "      <td>NaN</td>\n",
       "      <td>avsnews.co.in</td>\n",
       "      <td>media</td>\n",
       "    </tr>\n",
       "    <tr>\n",
       "      <th>2</th>\n",
       "      <td>Techno5</td>\n",
       "      <td>techno5.in</td>\n",
       "      <td>information_technology</td>\n",
       "    </tr>\n",
       "    <tr>\n",
       "      <th>3</th>\n",
       "      <td>Digital Compound</td>\n",
       "      <td>digitalcompound.in</td>\n",
       "      <td>information_technology</td>\n",
       "    </tr>\n",
       "    <tr>\n",
       "      <th>4</th>\n",
       "      <td>NaN</td>\n",
       "      <td>meranews24x7.in</td>\n",
       "      <td>media</td>\n",
       "    </tr>\n",
       "    <tr>\n",
       "      <th>5</th>\n",
       "      <td>Aay Kay Infraestate</td>\n",
       "      <td>aaykayinfraestate.com</td>\n",
       "      <td>architecture</td>\n",
       "    </tr>\n",
       "  </tbody>\n",
       "</table>\n",
       "</div>"
      ],
      "text/plain": [
       "                  name                 domain                category\n",
       "1                  NaN          avsnews.co.in                   media\n",
       "2              Techno5             techno5.in  information_technology\n",
       "3     Digital Compound     digitalcompound.in  information_technology\n",
       "4                  NaN        meranews24x7.in                   media\n",
       "5  Aay Kay Infraestate  aaykayinfraestate.com            architecture"
      ]
     },
     "execution_count": 13,
     "metadata": {},
     "output_type": "execute_result"
    }
   ],
   "source": [
    "def categorize_company(row):\n",
    "    # Define the categories and their corresponding lists\n",
    "    categories = {\n",
    "        'information_technology': ['web', 'tech', 'IT', 'Technologies', 'technology', 'data', 'software', 'network', 'programming', 'code', 'cybersecurity', 'development', 'application', 'database', 'cloud', 'AI', 'machinelearning', 'analytics', 'Python', 'Java', 'C++', 'coding', 'ITservices', 'digital', 'automation', 'techsupport', 'ITconsulting'],\n",
    "        'media': ['media', 'advertising', 'news', 'akhabaar', 'press', 'magazine', 'TV', 'radio', 'broadcasting', 'journalist', 'publication', 'journalism', 'socialmedia', 'editor', 'reporter', 'newsroom', 'mediaindustry', 'mediaproduction', 'mediaagency', 'mediaoutlet', 'mediaplatform'],\n",
    "        'education': ['college', 'class', 'classes', 'institute', 'academy', '.edu', '.ac', 'skool', 'university', 'school', 'learning', 'academic', 'study', 'curriculum', 'training', 'course', 'teacher', 'student', 'degree', 'diploma', 'educationalinstitution', 'onlinelearning', 'e-learning', 'educationalresources', 'educationaltechnology', 'teaching'],\n",
    "        'healthcare': ['health', 'wellness', 'clinic', 'dr', 'diagnostic', 'ayurved', 'medical', 'hospital', 'patient', 'treatment', 'therapy', 'healthcareservices', 'healthcareprovider', 'medicalcenter', 'healthcareindustry', 'healthcaretechnology', 'healthcaresolutions', 'medicalequipment', 'healthcareprofessionals'],\n",
    "        'fashion': ['fashion', 'style', 'trend', 'designer', 'clothing', 'apparel', 'boutique', 'runway', 'fashionista', 'fashionindustry', 'fashiondesign', 'fashionbrand', 'fashionshow', 'fashionblog', 'fashionaccessories', 'fashioninfluencer', 'fashionmodel', 'hautecouture', 'fashionmagazine'],\n",
    "        'tour_and_travel': ['tour', 'travel', 'hotel', 'trip', 'vacation', 'destination', 'tourism', 'journey', 'adventure', 'booking', 'travelagency', 'travelguide', 'travelplanner', 'traveldestination', 'travelpackage', 'holiday', 'explorer', 'sightseeing', 'travelexperience', 'travelblog', 'traveltips'],\n",
    "        'electrical': ['camera', 'cctv', 'electric', 'electrical', 'electronic', 'device', 'gadget', 'appliance', 'equipment', 'electricalengineering', 'electricalcontractor', 'electricalservices', 'electricalequipment', 'electricalsystem', 'electricalwiring', 'electrician', 'electricalsafety'],\n",
    "        'jewellery': ['jewelry', 'jewellers', 'jewel', 'gemstone', 'gold', 'silver', 'diamond', 'accessory', 'bracelet', 'necklace', 'jewelrystore', 'jewelrydesign', 'jewelrymaker', 'finejewelry', 'luxuryjewelry', 'customjewelry', 'fashionjewelry', 'jewelrycollection', 'jewelrybrand', 'jewelryrepair'],\n",
    "        'architecture': ['real', 'estate', 'infra', 'builders', 'architect', 'construction', 'building', 'design', 'structure', 'blueprint', 'urban', 'architecturefirm', 'architecturaldesign', 'architectureservices', 'constructioncompany', 'buildingcontractor', 'realestatedeveloper', 'propertydevelopment'],\n",
    "        'food': ['cake', 'food', 'eat', 'recipe', 'cafe', 'market', 'mart', 'restaurant', 'cuisine', 'chef', 'dining', 'cooking', 'gourmet', 'foodindustry', 'foodblog', 'fooddelivery', 'foodservice', 'foodcatering', 'foodmenu', 'foodtruck', 'foodbusiness', 'foodproduction', 'culinary', 'culinaryarts'],\n",
    "        'entertainment': ['game', 'gamer', 'studio', 'bollywood', 'fun', 'entertainment', 'movie', 'music', 'theater', 'show', 'concert', 'performance', 'gaming', 'entertainmentindustry', 'entertainmentcenter', 'entertainmentvenue', 'entertainmentnews', 'entertainmentblog', 'entertainmentevent', 'movietheater', 'musicfestival'],\n",
    "        'textile': ['mill', 'fabric', 'material', 'garment', 'weaving', 'thread', 'yarn', 'textile', 'textileindustry', 'textilemanufacturing', 'textiledesign', 'textilecompany', 'textilemachinery', 'textileproducts', 'textiletrade', 'textilebusiness', 'textileart', 'textileprinting', 'textileexporter'],\n",
    "        'sporting_goods': ['sport', 'sportinggoods', 'equipment', 'gear', 'athlete', 'fitness', 'exercise', 'gym', 'sportsequipment', 'sportsgear', 'sportsapparel', 'sportinggoodsstore', 'sportsbrand', 'sportsindustry', 'sportsequipmentmanufacturer', 'sportswear', 'sportsaccessories', 'sportsclothing', 'sportsshop'],\n",
    "        'fintech': ['pay', 'money', 'bank', 'finance', 'budget', 'stock', 'trading', 'invest', 'investing', 'financial', 'payment', 'banking', 'financialservices', 'financialtechnology', 'fintech', 'fintechcompany', 'fintechsolutions', 'fintechindustry', 'onlinepayment', 'digitalpayment', 'financialinstitution', 'financialadvisor', 'financialplanning', 'investmentmanagement'],\n",
    "        'services': ['care', 'solution', 'solutions', 'consultancy', 'associates', 'support', 'assistance', 'advisory', 'consulting', 'partnership', 'collaboration', 'service', 'professionalservices', 'businessservices', 'consultingservices', 'advisoryservices', 'clientservices', 'customerservice', 'serviceprovider']\n",
    "    }\n",
    "\n",
    "    company_name = row['name'] if pd.notnull(row['name']) else row['domain']\n",
    "    \n",
    "    for category, keywords in categories.items():\n",
    "        for keyword in keywords:\n",
    "            if keyword.lower() in company_name.lower():\n",
    "                return category\n",
    "    \n",
    "    return None\n",
    "\n",
    "df['category'] = df.apply(categorize_company, axis=1)\n",
    "df_categorized = df[df['category'].notnull()]\n",
    "df_categorized[['name', 'domain', 'category']].reset_index(inplace=True, drop=True)\n",
    "df_categorized[['name', 'domain', 'category']].head()"
   ]
  },
  {
   "cell_type": "markdown",
   "id": "287efa85",
   "metadata": {},
   "source": [
    "### 4. A list of companies and their 10 digit phone numbers."
   ]
  },
  {
   "cell_type": "code",
   "execution_count": 14,
   "id": "ce555477",
   "metadata": {},
   "outputs": [],
   "source": [
    "# Function to extract the 10-digit phone number from a string\n",
    "def extract_phone_number(phone_str):\n",
    "    if isinstance(phone_str, str):\n",
    "        phone_str = phone_str.replace('[', '').replace(']', '').replace(' ', '')\n",
    "        for i in range(len(phone_str) - 1, -1, -1):\n",
    "            if phone_str[i].isdigit() and len(phone_str[i:]) >= 10:\n",
    "                return phone_str[i:i+10]\n",
    "    return None\n",
    "\n",
    "# Function to extract domain name if company is null\n",
    "def extract_domain_name(row):\n",
    "    if pd.isnull(row['name']):\n",
    "        domain_parts = row['domain'].split('.')\n",
    "        if len(domain_parts) >= 2:\n",
    "            return domain_parts[0]\n",
    "    return None"
   ]
  },
  {
   "cell_type": "code",
   "execution_count": 15,
   "id": "d6f1d1aa",
   "metadata": {},
   "outputs": [
    {
     "data": {
      "text/html": [
       "<div>\n",
       "<style scoped>\n",
       "    .dataframe tbody tr th:only-of-type {\n",
       "        vertical-align: middle;\n",
       "    }\n",
       "\n",
       "    .dataframe tbody tr th {\n",
       "        vertical-align: top;\n",
       "    }\n",
       "\n",
       "    .dataframe thead th {\n",
       "        text-align: right;\n",
       "    }\n",
       "</style>\n",
       "<table border=\"1\" class=\"dataframe\">\n",
       "  <thead>\n",
       "    <tr style=\"text-align: right;\">\n",
       "      <th></th>\n",
       "      <th>id</th>\n",
       "      <th>company_name</th>\n",
       "      <th>phone_number</th>\n",
       "    </tr>\n",
       "  </thead>\n",
       "  <tbody>\n",
       "    <tr>\n",
       "      <th>0</th>\n",
       "      <td>883a4827-80e3-424f-8969-12b94be16b47</td>\n",
       "      <td>Techno5</td>\n",
       "      <td>7906628586</td>\n",
       "    </tr>\n",
       "    <tr>\n",
       "      <th>1</th>\n",
       "      <td>f4d5636b-1286-4e7d-abe8-70a1729cadfd</td>\n",
       "      <td>Digital Compound</td>\n",
       "      <td>7907488830</td>\n",
       "    </tr>\n",
       "    <tr>\n",
       "      <th>2</th>\n",
       "      <td>a2641370-51e5-4d7e-8d86-cd15516b4674</td>\n",
       "      <td>Aay Kay Infraestate</td>\n",
       "      <td>5224044778</td>\n",
       "    </tr>\n",
       "    <tr>\n",
       "      <th>3</th>\n",
       "      <td>5114327b-efde-4c2b-a091-3b9b572c8800</td>\n",
       "      <td>Vintage Fashions</td>\n",
       "      <td>8006645555</td>\n",
       "    </tr>\n",
       "    <tr>\n",
       "      <th>4</th>\n",
       "      <td>765bec07-9a24-4e74-9a45-d48da1551fd1</td>\n",
       "      <td>handlair</td>\n",
       "      <td>7042898442</td>\n",
       "    </tr>\n",
       "  </tbody>\n",
       "</table>\n",
       "</div>"
      ],
      "text/plain": [
       "                                     id         company_name phone_number\n",
       "0  883a4827-80e3-424f-8969-12b94be16b47              Techno5   7906628586\n",
       "1  f4d5636b-1286-4e7d-abe8-70a1729cadfd     Digital Compound   7907488830\n",
       "2  a2641370-51e5-4d7e-8d86-cd15516b4674  Aay Kay Infraestate   5224044778\n",
       "3  5114327b-efde-4c2b-a091-3b9b572c8800     Vintage Fashions   8006645555\n",
       "4  765bec07-9a24-4e74-9a45-d48da1551fd1             handlair   7042898442"
      ]
     },
     "execution_count": 15,
     "metadata": {},
     "output_type": "execute_result"
    }
   ],
   "source": [
    "df['phone_number'] = df['site_phonenumbers'].apply(lambda x: extract_phone_number(str(x)))\n",
    "\n",
    "df['company_name'] = df.apply(lambda row: row['name'] if not pd.isnull(row['name']) else extract_domain_name(row), axis=1)\n",
    "\n",
    "df_company_with_phone = df[['id', 'company_name', 'phone_number']].copy()\n",
    "df_company_with_phone = df_company_with_phone.dropna(subset=['id', 'company_name', 'phone_number'])\n",
    "df_company_with_phone.reset_index(inplace=True, drop=True)\n",
    "df_company_with_phone.head()"
   ]
  },
  {
   "cell_type": "markdown",
   "id": "caf4eaf9",
   "metadata": {},
   "source": [
    "### 5. Which email names are popular among companies(admin/info) etc. Also plot it."
   ]
  },
  {
   "cell_type": "code",
   "execution_count": 16,
   "id": "b7dd12ec",
   "metadata": {},
   "outputs": [
    {
     "data": {
      "text/plain": [
       "info       3802\n",
       "support    1151\n",
       "contact     871\n",
       "sales       545\n",
       "hello       326\n",
       "dtype: int64"
      ]
     },
     "execution_count": 16,
     "metadata": {},
     "output_type": "execute_result"
    }
   ],
   "source": [
    "email_names = []\n",
    "for emails_str in df['site_emailaddresses']:\n",
    "    if isinstance(emails_str, str):\n",
    "        emails_list = emails_str.replace('[', '').replace(']', '').split(', ')\n",
    "        for email in emails_list:\n",
    "            email_names.append(email.split('@')[0])\n",
    "\n",
    "email_name_counts = pd.Series(email_names).value_counts()\n",
    "email_name_counts = email_name_counts[:5]\n",
    "email_name_counts"
   ]
  },
  {
   "cell_type": "code",
   "execution_count": 17,
   "id": "aed29cf1",
   "metadata": {},
   "outputs": [
    {
     "data": {
      "image/png": "[encoded data removed]",
      "text/plain": [
       "<Figure size 1000x600 with 1 Axes>"
      ]
     },
     "metadata": {},
     "output_type": "display_data"
    }
   ],
   "source": [
    "# Plotting\n",
    "plt.figure(figsize=(10, 6))\n",
    "sns.barplot(x=email_name_counts.index, y=email_name_counts.values, palette='viridis')\n",
    "plt.xlabel('Email Name')\n",
    "plt.ylabel('Count')\n",
    "plt.title('Popular Email Names Among Companies')\n",
    "plt.xticks(rotation=45)\n",
    "plt.show()"
   ]
  },
  {
   "cell_type": "markdown",
   "id": "b7c47e94",
   "metadata": {},
   "source": [
    "### 6. Categorise companies in different sectors with plots."
   ]
  },
  {
   "cell_type": "code",
   "execution_count": 18,
   "id": "86f1451a",
   "metadata": {},
   "outputs": [],
   "source": [
    "df_sector = df[df['category_sector'].notnull()]"
   ]
  },
  {
   "cell_type": "code",
   "execution_count": 19,
   "id": "b6b24977",
   "metadata": {},
   "outputs": [
    {
     "data": {
      "text/plain": [
       "Consumer Discretionary        2821\n",
       "Information Technology        1496\n",
       "Industrials                   1310\n",
       "Health Care                    406\n",
       "Financials                     386\n",
       "Materials                      205\n",
       "Consumer Staples               171\n",
       "Utilities                       75\n",
       "Telecommunication Services      29\n",
       "Energy                          28\n",
       "Name: category_sector, dtype: int64"
      ]
     },
     "execution_count": 19,
     "metadata": {},
     "output_type": "execute_result"
    }
   ],
   "source": [
    "sector_counts = df_sector['category_sector'].value_counts()\n",
    "sector_counts"
   ]
  },
  {
   "cell_type": "code",
   "execution_count": 20,
   "id": "eb4a4048",
   "metadata": {},
   "outputs": [
    {
     "data": {
      "image/png": "[encoded data removed]",
      "text/plain": [
       "<Figure size 1000x600 with 1 Axes>"
      ]
     },
     "metadata": {},
     "output_type": "display_data"
    }
   ],
   "source": [
    "# Plotting\n",
    "plt.figure(figsize=(10, 6))\n",
    "sns.barplot(x=sector_counts.index, y=sector_counts.values, palette='viridis')\n",
    "plt.title('Distribution of Companies across Sectors')\n",
    "plt.xlabel('Sector')\n",
    "plt.ylabel('Number of Companies')\n",
    "plt.xticks(rotation=45)\n",
    "plt.show()"
   ]
  },
  {
   "cell_type": "markdown",
   "id": "fa3d175e",
   "metadata": {},
   "source": [
    "### 7. Plot companies on India’s map based on their location."
   ]
  },
  {
   "cell_type": "code",
   "execution_count": 21,
   "id": "3375d787",
   "metadata": {},
   "outputs": [],
   "source": [
    "df_new = df.copy()"
   ]
  },
  {
   "cell_type": "markdown",
   "id": "02a5b168",
   "metadata": {},
   "source": [
    "#### Default Values"
   ]
  },
  {
   "cell_type": "code",
   "execution_count": 22,
   "id": "a640acc7",
   "metadata": {},
   "outputs": [],
   "source": [
    "df_new['geo_combined'] = df_new['geo_lat'].astype(str) + ', ' + df_new['geo_lng'].astype(str)"
   ]
  },
  {
   "cell_type": "code",
   "execution_count": 23,
   "id": "d910c8e4",
   "metadata": {},
   "outputs": [
    {
     "data": {
      "text/plain": [
       "20.593684, 78.96288       27651\n",
       "19.0759837, 72.8776559      105\n",
       "12.9715987, 77.5945627       94\n",
       "28.6139391, 77.2090212       90\n",
       "28.7040592, 77.1024902       58\n",
       "17.385044, 78.486671         45\n",
       "18.5204303, 73.8567437       36\n",
       "28.4594965, 77.0266383       34\n",
       "13.0826802, 80.2707184       31\n",
       "19.7514798, 75.7138884       26\n",
       "Name: geo_combined, dtype: int64"
      ]
     },
     "execution_count": 23,
     "metadata": {},
     "output_type": "execute_result"
    }
   ],
   "source": [
    "df_new['geo_combined'].value_counts().head(10)\n",
    "# therefore the default value is 20.593684, 78.96288 with freq 27651."
   ]
  },
  {
   "cell_type": "code",
   "execution_count": 24,
   "id": "51f63500",
   "metadata": {},
   "outputs": [],
   "source": [
    "df_new = df_new[df_new['geo_combined']!=\"20.593684, 78.96288\"]"
   ]
  },
  {
   "cell_type": "code",
   "execution_count": 25,
   "id": "5281bbac",
   "metadata": {},
   "outputs": [
    {
     "data": {
      "text/html": [
       "<div>\n",
       "<style scoped>\n",
       "    .dataframe tbody tr th:only-of-type {\n",
       "        vertical-align: middle;\n",
       "    }\n",
       "\n",
       "    .dataframe tbody tr th {\n",
       "        vertical-align: top;\n",
       "    }\n",
       "\n",
       "    .dataframe thead th {\n",
       "        text-align: right;\n",
       "    }\n",
       "</style>\n",
       "<table border=\"1\" class=\"dataframe\">\n",
       "  <thead>\n",
       "    <tr style=\"text-align: right;\">\n",
       "      <th></th>\n",
       "      <th>id</th>\n",
       "      <th>name</th>\n",
       "      <th>domain</th>\n",
       "      <th>site_phonenumbers</th>\n",
       "      <th>site_emailaddresses</th>\n",
       "      <th>tags</th>\n",
       "      <th>category_sector</th>\n",
       "      <th>category_industrygroup</th>\n",
       "      <th>category_industry</th>\n",
       "      <th>category_subindustry</th>\n",
       "      <th>...</th>\n",
       "      <th>type</th>\n",
       "      <th>tech</th>\n",
       "      <th>techcategories</th>\n",
       "      <th>indexedat</th>\n",
       "      <th>created_at</th>\n",
       "      <th>domain_extension</th>\n",
       "      <th>category</th>\n",
       "      <th>phone_number</th>\n",
       "      <th>company_name</th>\n",
       "      <th>geo_combined</th>\n",
       "    </tr>\n",
       "  </thead>\n",
       "  <tbody>\n",
       "    <tr>\n",
       "      <th>5</th>\n",
       "      <td>a2641370-51e5-4d7e-8d86-cd15516b4674</td>\n",
       "      <td>Aay Kay Infraestate</td>\n",
       "      <td>aaykayinfraestate.com</td>\n",
       "      <td>[+91 94150 24149, +91 522 404 4778]</td>\n",
       "      <td>[info@aaykayinfraestate.com]</td>\n",
       "      <td>[Real Estate]</td>\n",
       "      <td>Financials</td>\n",
       "      <td>Real Estate</td>\n",
       "      <td>Real Estate</td>\n",
       "      <td>Real Estate</td>\n",
       "      <td>...</td>\n",
       "      <td>private</td>\n",
       "      <td>[godaddy_nameserver, asp_net, facebook_social_...</td>\n",
       "      <td>[web_hosting, programming_framework, social_sh...</td>\n",
       "      <td>2021-07-29T04:47:21.013Z</td>\n",
       "      <td>5/7/2021</td>\n",
       "      <td>com</td>\n",
       "      <td>architecture</td>\n",
       "      <td>5224044778</td>\n",
       "      <td>Aay Kay Infraestate</td>\n",
       "      <td>26.8551032, 80.9449942</td>\n",
       "    </tr>\n",
       "    <tr>\n",
       "      <th>9</th>\n",
       "      <td>af70e5ec-1503-4393-bbad-c31eb2329d43</td>\n",
       "      <td>DAN.COM</td>\n",
       "      <td>analogwebmedia.com</td>\n",
       "      <td>NaN</td>\n",
       "      <td>NaN</td>\n",
       "      <td>[Information Technology &amp; Services]</td>\n",
       "      <td>Information Technology</td>\n",
       "      <td>Software &amp; Services</td>\n",
       "      <td>Internet Software &amp; Services</td>\n",
       "      <td>Internet Software &amp; Services</td>\n",
       "      <td>...</td>\n",
       "      <td>private</td>\n",
       "      <td>[trustpilot, ruby_on_rails, google_remarketing...</td>\n",
       "      <td>[user_engagement, programming_framework, adver...</td>\n",
       "      <td>2021-06-22T00:40:48.048Z</td>\n",
       "      <td>5/8/2021</td>\n",
       "      <td>com</td>\n",
       "      <td>None</td>\n",
       "      <td>None</td>\n",
       "      <td>DAN.COM</td>\n",
       "      <td>28.585037, 77.3116409</td>\n",
       "    </tr>\n",
       "    <tr>\n",
       "      <th>10</th>\n",
       "      <td>dbefb8b6-2258-4b3c-9ee5-99c0722e7500</td>\n",
       "      <td>Tour Travel 360</td>\n",
       "      <td>tourtravel360.com</td>\n",
       "      <td>NaN</td>\n",
       "      <td>NaN</td>\n",
       "      <td>[Travel &amp; Leisure]</td>\n",
       "      <td>Consumer Discretionary</td>\n",
       "      <td>Consumer Services</td>\n",
       "      <td>Hotels, Restaurants &amp; Leisure</td>\n",
       "      <td>Hotels, Restaurants &amp; Leisure</td>\n",
       "      <td>...</td>\n",
       "      <td>private</td>\n",
       "      <td>NaN</td>\n",
       "      <td>NaN</td>\n",
       "      <td>2021-06-22T03:10:34.939Z</td>\n",
       "      <td>5/8/2021</td>\n",
       "      <td>com</td>\n",
       "      <td>tour_and_travel</td>\n",
       "      <td>None</td>\n",
       "      <td>Tour Travel 360</td>\n",
       "      <td>28.6134872, 76.9800836</td>\n",
       "    </tr>\n",
       "    <tr>\n",
       "      <th>11</th>\n",
       "      <td>044e8f09-3ede-4f27-bccb-b814ceb982cb</td>\n",
       "      <td>NaN</td>\n",
       "      <td>elevatelabs.tech</td>\n",
       "      <td>NaN</td>\n",
       "      <td>NaN</td>\n",
       "      <td>[E-Learning]</td>\n",
       "      <td>Information Technology</td>\n",
       "      <td>Software &amp; Services</td>\n",
       "      <td>Internet Software &amp; Services</td>\n",
       "      <td>Internet Software &amp; Services</td>\n",
       "      <td>...</td>\n",
       "      <td>private</td>\n",
       "      <td>NaN</td>\n",
       "      <td>NaN</td>\n",
       "      <td>2021-07-25T14:38:40.084Z</td>\n",
       "      <td>5/8/2021</td>\n",
       "      <td>tech</td>\n",
       "      <td>information_technology</td>\n",
       "      <td>None</td>\n",
       "      <td>elevatelabs</td>\n",
       "      <td>12.9298689, 77.6848366</td>\n",
       "    </tr>\n",
       "    <tr>\n",
       "      <th>15</th>\n",
       "      <td>37dc71b7-632f-4c3e-82e6-67205a1d96f7</td>\n",
       "      <td>Hotel Veenu International - India</td>\n",
       "      <td>hotelveenuinternational.com</td>\n",
       "      <td>NaN</td>\n",
       "      <td>NaN</td>\n",
       "      <td>[Travel &amp; Leisure]</td>\n",
       "      <td>Consumer Discretionary</td>\n",
       "      <td>Consumer Services</td>\n",
       "      <td>Hotels, Restaurants &amp; Leisure</td>\n",
       "      <td>Hotels, Restaurants &amp; Leisure</td>\n",
       "      <td>...</td>\n",
       "      <td>private</td>\n",
       "      <td>NaN</td>\n",
       "      <td>NaN</td>\n",
       "      <td>2021-06-22T16:40:30.710Z</td>\n",
       "      <td>5/8/2021</td>\n",
       "      <td>com</td>\n",
       "      <td>tour_and_travel</td>\n",
       "      <td>None</td>\n",
       "      <td>Hotel Veenu International - India</td>\n",
       "      <td>12.8707145, 74.846945</td>\n",
       "    </tr>\n",
       "  </tbody>\n",
       "</table>\n",
       "<p>5 rows × 45 columns</p>\n",
       "</div>"
      ],
      "text/plain": [
       "                                      id                               name  \\\n",
       "5   a2641370-51e5-4d7e-8d86-cd15516b4674                Aay Kay Infraestate   \n",
       "9   af70e5ec-1503-4393-bbad-c31eb2329d43                            DAN.COM   \n",
       "10  dbefb8b6-2258-4b3c-9ee5-99c0722e7500                    Tour Travel 360   \n",
       "11  044e8f09-3ede-4f27-bccb-b814ceb982cb                                NaN   \n",
       "15  37dc71b7-632f-4c3e-82e6-67205a1d96f7  Hotel Veenu International - India   \n",
       "\n",
       "                         domain                    site_phonenumbers  \\\n",
       "5         aaykayinfraestate.com  [+91 94150 24149, +91 522 404 4778]   \n",
       "9            analogwebmedia.com                                  NaN   \n",
       "10            tourtravel360.com                                  NaN   \n",
       "11             elevatelabs.tech                                  NaN   \n",
       "15  hotelveenuinternational.com                                  NaN   \n",
       "\n",
       "             site_emailaddresses                                 tags  \\\n",
       "5   [info@aaykayinfraestate.com]                        [Real Estate]   \n",
       "9                            NaN  [Information Technology & Services]   \n",
       "10                           NaN                   [Travel & Leisure]   \n",
       "11                           NaN                         [E-Learning]   \n",
       "15                           NaN                   [Travel & Leisure]   \n",
       "\n",
       "           category_sector category_industrygroup  \\\n",
       "5               Financials            Real Estate   \n",
       "9   Information Technology    Software & Services   \n",
       "10  Consumer Discretionary      Consumer Services   \n",
       "11  Information Technology    Software & Services   \n",
       "15  Consumer Discretionary      Consumer Services   \n",
       "\n",
       "                category_industry           category_subindustry  ...  \\\n",
       "5                     Real Estate                    Real Estate  ...   \n",
       "9    Internet Software & Services   Internet Software & Services  ...   \n",
       "10  Hotels, Restaurants & Leisure  Hotels, Restaurants & Leisure  ...   \n",
       "11   Internet Software & Services   Internet Software & Services  ...   \n",
       "15  Hotels, Restaurants & Leisure  Hotels, Restaurants & Leisure  ...   \n",
       "\n",
       "       type                                               tech  \\\n",
       "5   private  [godaddy_nameserver, asp_net, facebook_social_...   \n",
       "9   private  [trustpilot, ruby_on_rails, google_remarketing...   \n",
       "10  private                                                NaN   \n",
       "11  private                                                NaN   \n",
       "15  private                                                NaN   \n",
       "\n",
       "                                       techcategories  \\\n",
       "5   [web_hosting, programming_framework, social_sh...   \n",
       "9   [user_engagement, programming_framework, adver...   \n",
       "10                                                NaN   \n",
       "11                                                NaN   \n",
       "15                                                NaN   \n",
       "\n",
       "                   indexedat  created_at domain_extension  \\\n",
       "5   2021-07-29T04:47:21.013Z    5/7/2021              com   \n",
       "9   2021-06-22T00:40:48.048Z    5/8/2021              com   \n",
       "10  2021-06-22T03:10:34.939Z    5/8/2021              com   \n",
       "11  2021-07-25T14:38:40.084Z    5/8/2021             tech   \n",
       "15  2021-06-22T16:40:30.710Z    5/8/2021              com   \n",
       "\n",
       "                  category phone_number                       company_name  \\\n",
       "5             architecture   5224044778                Aay Kay Infraestate   \n",
       "9                     None         None                            DAN.COM   \n",
       "10         tour_and_travel         None                    Tour Travel 360   \n",
       "11  information_technology         None                        elevatelabs   \n",
       "15         tour_and_travel         None  Hotel Veenu International - India   \n",
       "\n",
       "              geo_combined  \n",
       "5   26.8551032, 80.9449942  \n",
       "9    28.585037, 77.3116409  \n",
       "10  28.6134872, 76.9800836  \n",
       "11  12.9298689, 77.6848366  \n",
       "15   12.8707145, 74.846945  \n",
       "\n",
       "[5 rows x 45 columns]"
      ]
     },
     "execution_count": 25,
     "metadata": {},
     "output_type": "execute_result"
    }
   ],
   "source": [
    "df_new.head()"
   ]
  },
  {
   "cell_type": "code",
   "execution_count": 26,
   "id": "54ead00c",
   "metadata": {},
   "outputs": [
    {
     "name": "stderr",
     "output_type": "stream",
     "text": [
      "/var/folders/3t/gg1853g50kj9b5xn92nypzmc0000gn/T/ipykernel_31721/166181840.py:1: FutureWarning: The geopandas.dataset module is deprecated and will be removed in GeoPandas 1.0. You can get the original 'naturalearth_lowres' data from https://www.naturalearthdata.com/downloads/110m-cultural-vectors/.\n",
      "  world = gpd.read_file(gpd.datasets.get_path('naturalearth_lowres'))\n"
     ]
    }
   ],
   "source": [
    "world = gpd.read_file(gpd.datasets.get_path('naturalearth_lowres'))\n",
    "india = world[world.name == 'India']\n",
    "indian_companies = df_new[df_new['geo_countrycode'] == 'IN']\n",
    "\n",
    "gdf = gpd.GeoDataFrame(indian_companies, geometry=gpd.points_from_xy(indian_companies['geo_lng'], indian_companies['geo_lat']))"
   ]
  },
  {
   "cell_type": "code",
   "execution_count": 27,
   "id": "05c481ce",
   "metadata": {},
   "outputs": [
    {
     "data": {
      "image/png": "[encoded data removed]",
      "text/plain": [
       "<Figure size 1000x1000 with 1 Axes>"
      ]
     },
     "metadata": {},
     "output_type": "display_data"
    }
   ],
   "source": [
    "# Plotting\n",
    "fig, ax = plt.subplots(figsize=(10, 10))\n",
    "india.plot(ax=ax, color='lightgreen', edgecolor='black')\n",
    "gdf.plot(ax=ax, color='red', markersize=10, label='Indian Companies')\n",
    "ax.set_title('Indian Companies on India Map')\n",
    "ax.set_xlabel('Longitude')\n",
    "ax.set_ylabel('Latitude')\n",
    "plt.legend()\n",
    "plt.grid(True)\n",
    "plt.show()\n"
   ]
  },
  {
   "cell_type": "markdown",
   "id": "d219fce0",
   "metadata": {},
   "source": [
    "### 8. Which state and cities are leading in number of companies."
   ]
  },
  {
   "cell_type": "markdown",
   "id": "9ecd8c8e",
   "metadata": {
    "scrolled": true
   },
   "source": [
    "#### Cities with leading companies"
   ]
  },
  {
   "cell_type": "code",
   "execution_count": 28,
   "id": "1753f79a",
   "metadata": {},
   "outputs": [
    {
     "data": {
      "text/plain": [
       "Bengaluru    591\n",
       "New Delhi    590\n",
       "Mumbai       560\n",
       "Chennai      287\n",
       "Hyderabad    279\n",
       "Pune         239\n",
       "Kolkata      196\n",
       "Ahmedabad    195\n",
       "Gurugram     168\n",
       "Noida        160\n",
       "Name: geo_city, dtype: int64"
      ]
     },
     "execution_count": 28,
     "metadata": {},
     "output_type": "execute_result"
    }
   ],
   "source": [
    "df_city = df[df['geo_city'].notnull()]\n",
    "city_counts = df_city['geo_city'].value_counts()\n",
    "city_counts = city_counts[:10]\n",
    "city_counts"
   ]
  },
  {
   "cell_type": "markdown",
   "id": "9f69882f",
   "metadata": {},
   "source": [
    "### States with leading companies"
   ]
  },
  {
   "cell_type": "code",
   "execution_count": 29,
   "id": "43040332",
   "metadata": {},
   "outputs": [
    {
     "data": {
      "text/plain": [
       "Maharashtra      1175\n",
       "Delhi             766\n",
       "Karnataka         657\n",
       "Tamil Nadu        461\n",
       "Gujarat           422\n",
       "Uttar Pradesh     390\n",
       "Telangana         343\n",
       "Haryana           281\n",
       "West Bengal       235\n",
       "Rajasthan         197\n",
       "Name: geo_state, dtype: int64"
      ]
     },
     "execution_count": 29,
     "metadata": {},
     "output_type": "execute_result"
    }
   ],
   "source": [
    "df_state = df[df['geo_state'].notnull()]\n",
    "state_counts = df_state['geo_state'].value_counts()\n",
    "state_counts = state_counts[:10]\n",
    "state_counts"
   ]
  },
  {
   "cell_type": "markdown",
   "id": "aa1562a1",
   "metadata": {},
   "source": [
    "### 9. Plot companies according to size of their revenue."
   ]
  },
  {
   "cell_type": "code",
   "execution_count": 30,
   "id": "5176001a",
   "metadata": {},
   "outputs": [
    {
     "data": {
      "text/plain": [
       "$0-$1M         3740\n",
       "$1M-$10M       1804\n",
       "$10M-$50M       724\n",
       "$50M-$100M      282\n",
       "$100M-$250M      18\n",
       "$250M-$500M       4\n",
       "$1B-$10B          3\n",
       "$500M-$1B         3\n",
       "$10B+             2\n",
       "Name: estimatedannualrevenue, dtype: int64"
      ]
     },
     "execution_count": 30,
     "metadata": {},
     "output_type": "execute_result"
    }
   ],
   "source": [
    "df_revenue = df[df['estimatedannualrevenue'].notnull()]\n",
    "company_counts = df_revenue['estimatedannualrevenue'].value_counts()\n",
    "company_counts\n"
   ]
  },
  {
   "cell_type": "code",
   "execution_count": 31,
   "id": "6c1fca32",
   "metadata": {},
   "outputs": [
    {
     "data": {
      "image/png": "[encoded data removed]",
      "text/plain": [
       "<Figure size 1000x600 with 1 Axes>"
      ]
     },
     "metadata": {},
     "output_type": "display_data"
    }
   ],
   "source": [
    "# Plotting\n",
    "plt.figure(figsize=(10, 6))\n",
    "sns.barplot(x=company_counts.index, y=company_counts.values, palette='viridis')\n",
    "plt.title('Distribution of Companies according to their estimated revenue')\n",
    "plt.xlabel('Estimated Revenue')\n",
    "plt.ylabel('Number of Companies')\n",
    "plt.xticks(rotation=45)\n",
    "plt.show()\n"
   ]
  },
  {
   "cell_type": "markdown",
   "id": "22fc9ce2",
   "metadata": {},
   "source": [
    "### 10. Finally select useful features that could be used to classify similarity among companies and create embeddings for them."
   ]
  },
  {
   "cell_type": "code",
   "execution_count": 34,
   "id": "8d39ae39",
   "metadata": {},
   "outputs": [],
   "source": [
    "import pandas as pd\n",
    "from sklearn.preprocessing import StandardScaler\n",
    "from gensim.models import Word2Vec"
   ]
  },
  {
   "cell_type": "code",
   "execution_count": 35,
   "id": "d6db4298",
   "metadata": {},
   "outputs": [],
   "source": [
    "selected_features = ['company_name', 'tags', 'category_sector', 'category_industrygroup', 'category_industry', 'category_subindustry', 'category_siccode', 'techcategories']\n",
    "df_selected = df[selected_features].fillna('')\n",
    "# df_selected_without_exclude = df_selected[selected_features].drop(columns=['company_name'])\n",
    "df_selected['combined_features'] = df_selected.apply(lambda row: ' '.join(row.dropna().astype(str)), axis=1)\n"
   ]
  },
  {
   "cell_type": "code",
   "execution_count": 36,
   "id": "a85de589",
   "metadata": {},
   "outputs": [],
   "source": [
    "df_selected['combined_features'] = df_selected['combined_features'].apply(lambda x: x.replace('[', '').replace(']', ''))"
   ]
  },
  {
   "cell_type": "code",
   "execution_count": 37,
   "id": "db534ff5",
   "metadata": {},
   "outputs": [],
   "source": [
    "features = df_selected['combined_features'].tolist()"
   ]
  },
  {
   "cell_type": "code",
   "execution_count": 38,
   "id": "d476a084",
   "metadata": {},
   "outputs": [
    {
     "data": {
      "text/plain": [
       "0    V Search Human Resources Industrials Commercia...\n",
       "1    avsnews       web_hosting, advertising, conten...\n",
       "2    Techno5       web_hosting, content_management_...\n",
       "3    Digital Compound       content_management_syst...\n",
       "4                               meranews24x7       dns\n",
       "Name: combined_features, dtype: object"
      ]
     },
     "execution_count": 38,
     "metadata": {},
     "output_type": "execute_result"
    }
   ],
   "source": [
    "df_selected['combined_features'].head()"
   ]
  },
  {
   "cell_type": "markdown",
   "id": "3f90da34",
   "metadata": {},
   "source": [
    "### Using BOW and TF-IDF approachs first"
   ]
  },
  {
   "cell_type": "markdown",
   "id": "21a7ee36",
   "metadata": {},
   "source": [
    "#### BOW Approach"
   ]
  },
  {
   "cell_type": "code",
   "execution_count": 39,
   "id": "417776fe",
   "metadata": {},
   "outputs": [],
   "source": [
    "from sklearn.feature_extraction.text import CountVectorizer\n",
    "from sklearn.metrics.pairwise import cosine_similarity"
   ]
  },
  {
   "cell_type": "code",
   "execution_count": 40,
   "id": "3b73bfcb",
   "metadata": {},
   "outputs": [],
   "source": [
    "vectorizer = CountVectorizer(stop_words='english')\n",
    "X = vectorizer.fit_transform(features)"
   ]
  },
  {
   "cell_type": "code",
   "execution_count": 41,
   "id": "1997c78e",
   "metadata": {},
   "outputs": [],
   "source": [
    "cos_sim_matrix = cosine_similarity(X)"
   ]
  },
  {
   "cell_type": "code",
   "execution_count": 42,
   "id": "e4ae3b32",
   "metadata": {},
   "outputs": [],
   "source": [
    "# Function to calculate similarity between two companies\n",
    "def get_similarity(company1, company2):\n",
    "    idx1 = df_selected.index[df_selected['company_name'] == company1][0]\n",
    "    idx2 = df_selected.index[df_selected['company_name'] == company2][0]\n",
    "    return [idx1, idx2]"
   ]
  },
  {
   "cell_type": "code",
   "execution_count": 43,
   "id": "7b38ccb4",
   "metadata": {},
   "outputs": [
    {
     "name": "stdout",
     "output_type": "stream",
     "text": [
      "Similarity between Company A and Company B using BOW: 0.3380617018914066\n"
     ]
    }
   ],
   "source": [
    "company1 = input(\"Enter the first company name: \")\n",
    "company2 = input(\"Enter the second company name: \")\n",
    "\n",
    "idx1, idx2 = get_similarity(company1, company2)\n",
    "similarity_score = cos_sim_matrix[idx1, idx2]\n",
    "print(f\"Similarity between Company A and Company B using BOW: {similarity_score}\")"
   ]
  },
  {
   "cell_type": "markdown",
   "id": "fdfefa96",
   "metadata": {},
   "source": [
    "#### TF-IDF Approach"
   ]
  },
  {
   "cell_type": "code",
   "execution_count": 44,
   "id": "58e2e982",
   "metadata": {},
   "outputs": [],
   "source": [
    "from sklearn.feature_extraction.text import TfidfVectorizer\n",
    "tfidf_vectorizer = TfidfVectorizer()\n",
    "tfidf_matrix = tfidf_vectorizer.fit_transform(df_selected['combined_features'])"
   ]
  },
  {
   "cell_type": "code",
   "execution_count": 45,
   "id": "da1561a1",
   "metadata": {},
   "outputs": [],
   "source": [
    "similarity_matrix = cosine_similarity(tfidf_matrix)"
   ]
  },
  {
   "cell_type": "code",
   "execution_count": 46,
   "id": "42172a7f",
   "metadata": {},
   "outputs": [
    {
     "name": "stdout",
     "output_type": "stream",
     "text": [
      "Enter the first company name: avsnews\n",
      "Enter the second company name: Techno5\n",
      "Similarity between Company A and Company B using IF-IDF: 0.06397622562370564\n"
     ]
    }
   ],
   "source": [
    "company1 = input(\"Enter the first company name: \")\n",
    "company2 = input(\"Enter the second company name: \")\n",
    "\n",
    "idx1, idx2 = get_similarity(company1, company2)\n",
    "similarity_score = similarity_matrix[idx1, idx2]\n",
    "print(f\"Similarity between Company A and Company B using IF-IDF: {similarity_score}\")"
   ]
  },
  {
   "cell_type": "markdown",
   "id": "f17544a5",
   "metadata": {},
   "source": [
    "#### As both BOW and IF-IDF Approach are not working well for all the cases, therefore using Word2Vec Approach"
   ]
  },
  {
   "cell_type": "markdown",
   "id": "38835ba3",
   "metadata": {},
   "source": [
    "#### Word2Vec"
   ]
  },
  {
   "cell_type": "code",
   "execution_count": 47,
   "id": "4354173e",
   "metadata": {},
   "outputs": [],
   "source": [
    "tokenized_features = [word_tokenize(sentence) for sentence in features]"
   ]
  },
  {
   "cell_type": "code",
   "execution_count": 48,
   "id": "3e51fc6d",
   "metadata": {},
   "outputs": [],
   "source": [
    "word2vec_model = Word2Vec(tokenized_features, vector_size=100, window=5)"
   ]
  },
  {
   "cell_type": "code",
   "execution_count": 49,
   "id": "31811928",
   "metadata": {},
   "outputs": [],
   "source": [
    "# Function to generate embeddings for a combined feature\n",
    "def generate_embedding(combined_features):\n",
    "    embedding = np.zeros(word2vec_model.vector_size)\n",
    "    for word in combined_features.split():\n",
    "        if word in word2vec_model.wv:\n",
    "            embedding += word2vec_model.wv[word]\n",
    "    return embedding\n",
    "\n",
    "df_selected['embeddings'] = df_selected['combined_features'].apply(generate_embedding)"
   ]
  },
  {
   "cell_type": "code",
   "execution_count": 52,
   "id": "26c15de0",
   "metadata": {
    "scrolled": false
   },
   "outputs": [
    {
     "data": {
      "text/html": [
       "<div>\n",
       "<style scoped>\n",
       "    .dataframe tbody tr th:only-of-type {\n",
       "        vertical-align: middle;\n",
       "    }\n",
       "\n",
       "    .dataframe tbody tr th {\n",
       "        vertical-align: top;\n",
       "    }\n",
       "\n",
       "    .dataframe thead th {\n",
       "        text-align: right;\n",
       "    }\n",
       "</style>\n",
       "<table border=\"1\" class=\"dataframe\">\n",
       "  <thead>\n",
       "    <tr style=\"text-align: right;\">\n",
       "      <th></th>\n",
       "      <th>company_name</th>\n",
       "      <th>tags</th>\n",
       "      <th>category_sector</th>\n",
       "      <th>category_industrygroup</th>\n",
       "      <th>category_industry</th>\n",
       "      <th>category_subindustry</th>\n",
       "      <th>category_siccode</th>\n",
       "      <th>techcategories</th>\n",
       "      <th>combined_features</th>\n",
       "      <th>embeddings</th>\n",
       "    </tr>\n",
       "  </thead>\n",
       "  <tbody>\n",
       "    <tr>\n",
       "      <th>0</th>\n",
       "      <td>V Search</td>\n",
       "      <td>[Human Resources]</td>\n",
       "      <td>Industrials</td>\n",
       "      <td>Commercial &amp; Professional Services</td>\n",
       "      <td>Professional Services</td>\n",
       "      <td>Human Resource &amp; Employment Services</td>\n",
       "      <td>73.0</td>\n",
       "      <td>[web_hosting]</td>\n",
       "      <td>V Search Human Resources Industrials Commercia...</td>\n",
       "      <td>[-4.9760294975712895, -1.006501730531454, -5.3...</td>\n",
       "    </tr>\n",
       "    <tr>\n",
       "      <th>1</th>\n",
       "      <td>avsnews</td>\n",
       "      <td></td>\n",
       "      <td></td>\n",
       "      <td></td>\n",
       "      <td></td>\n",
       "      <td></td>\n",
       "      <td></td>\n",
       "      <td>[web_hosting, advertising, content_management_...</td>\n",
       "      <td>avsnews       web_hosting, advertising, conten...</td>\n",
       "      <td>[-0.1269248127937317, 0.15618447959423065, 0.1...</td>\n",
       "    </tr>\n",
       "    <tr>\n",
       "      <th>2</th>\n",
       "      <td>Techno5</td>\n",
       "      <td></td>\n",
       "      <td></td>\n",
       "      <td></td>\n",
       "      <td></td>\n",
       "      <td></td>\n",
       "      <td></td>\n",
       "      <td>[web_hosting, content_management_system, progr...</td>\n",
       "      <td>Techno5       web_hosting, content_management_...</td>\n",
       "      <td>[-0.49788373708724976, 0.3070323169231415, -0....</td>\n",
       "    </tr>\n",
       "    <tr>\n",
       "      <th>3</th>\n",
       "      <td>Digital Compound</td>\n",
       "      <td></td>\n",
       "      <td></td>\n",
       "      <td></td>\n",
       "      <td></td>\n",
       "      <td></td>\n",
       "      <td></td>\n",
       "      <td>[content_management_system, web_servers, authe...</td>\n",
       "      <td>Digital Compound       content_management_syst...</td>\n",
       "      <td>[-0.2576330453157425, 0.36896246671676636, -0....</td>\n",
       "    </tr>\n",
       "    <tr>\n",
       "      <th>4</th>\n",
       "      <td>meranews24x7</td>\n",
       "      <td></td>\n",
       "      <td></td>\n",
       "      <td></td>\n",
       "      <td></td>\n",
       "      <td></td>\n",
       "      <td></td>\n",
       "      <td>[dns]</td>\n",
       "      <td>meranews24x7       dns</td>\n",
       "      <td>[-0.034849729388952255, 0.20697423815727234, 0...</td>\n",
       "    </tr>\n",
       "  </tbody>\n",
       "</table>\n",
       "</div>"
      ],
      "text/plain": [
       "       company_name               tags category_sector  \\\n",
       "0          V Search  [Human Resources]     Industrials   \n",
       "1           avsnews                                      \n",
       "2           Techno5                                      \n",
       "3  Digital Compound                                      \n",
       "4      meranews24x7                                      \n",
       "\n",
       "               category_industrygroup      category_industry  \\\n",
       "0  Commercial & Professional Services  Professional Services   \n",
       "1                                                              \n",
       "2                                                              \n",
       "3                                                              \n",
       "4                                                              \n",
       "\n",
       "                   category_subindustry category_siccode  \\\n",
       "0  Human Resource & Employment Services             73.0   \n",
       "1                                                          \n",
       "2                                                          \n",
       "3                                                          \n",
       "4                                                          \n",
       "\n",
       "                                      techcategories  \\\n",
       "0                                      [web_hosting]   \n",
       "1  [web_hosting, advertising, content_management_...   \n",
       "2  [web_hosting, content_management_system, progr...   \n",
       "3  [content_management_system, web_servers, authe...   \n",
       "4                                              [dns]   \n",
       "\n",
       "                                   combined_features  \\\n",
       "0  V Search Human Resources Industrials Commercia...   \n",
       "1  avsnews       web_hosting, advertising, conten...   \n",
       "2  Techno5       web_hosting, content_management_...   \n",
       "3  Digital Compound       content_management_syst...   \n",
       "4                             meranews24x7       dns   \n",
       "\n",
       "                                          embeddings  \n",
       "0  [-4.9760294975712895, -1.006501730531454, -5.3...  \n",
       "1  [-0.1269248127937317, 0.15618447959423065, 0.1...  \n",
       "2  [-0.49788373708724976, 0.3070323169231415, -0....  \n",
       "3  [-0.2576330453157425, 0.36896246671676636, -0....  \n",
       "4  [-0.034849729388952255, 0.20697423815727234, 0...  "
      ]
     },
     "execution_count": 52,
     "metadata": {},
     "output_type": "execute_result"
    }
   ],
   "source": [
    "df_selected.head()"
   ]
  },
  {
   "cell_type": "code",
   "execution_count": 53,
   "id": "24f2fe50",
   "metadata": {},
   "outputs": [
    {
     "name": "stdout",
     "output_type": "stream",
     "text": [
      "Enter the first company name: avsnews\n",
      "Enter the second company name: Techno5\n",
      "\n",
      "Similarity Score between the avsnews and Techno5: 0.5120041753742715\n"
     ]
    }
   ],
   "source": [
    "company_name_1 = input(\"Enter the first company name: \")\n",
    "company_name_2 = input(\"Enter the second company name: \")\n",
    "\n",
    "try:\n",
    "    comp1_embeddings = df_selected.loc[df_selected['company_name'] == f'{company_name_1}', 'embeddings'].values[0]\n",
    "    comp2_embeddings = df_selected.loc[df_selected['company_name'] == f'{company_name_2}', 'embeddings'].values[0]\n",
    "    similarity_score = 1-cosine(comp1_embeddings, comp2_embeddings)\n",
    "    print(f\"\\nSimilarity Score between the {company_name_1} and {company_name_2}:\", similarity_score)\n",
    "except Exception as e:\n",
    "    print(\"\\nAn error occurred, Company name does not exists\")"
   ]
  },
  {
   "cell_type": "code",
   "execution_count": null,
   "id": "f58402ed",
   "metadata": {},
   "outputs": [],
   "source": []
  }
 ],
 "metadata": {
  "kernelspec": {
   "display_name": "Python 3 (ipykernel)",
   "language": "python",
   "name": "python3"
  },
  "language_info": {
   "codemirror_mode": {
    "name": "ipython",
    "version": 3
   },
   "file_extension": ".py",
   "mimetype": "text/x-python",
   "name": "python",
   "nbconvert_exporter": "python",
   "pygments_lexer": "ipython3",
   "version": "3.11.5"
  }
 },
 "nbformat": 4,
 "nbformat_minor": 5
}
